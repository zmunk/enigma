{
 "cells": [
  {
   "cell_type": "code",
   "execution_count": 1,
   "metadata": {},
   "outputs": [],
   "source": [
    "import pandas as pd\n",
    "import json\n",
    "import re\n",
    "import random\n",
    "import matplotlib.pyplot as plt"
   ]
  },
  {
   "cell_type": "code",
   "execution_count": 2,
   "metadata": {},
   "outputs": [],
   "source": [
    "with open('TWEETS.json') as f:\n",
    "    TWEETS = json.load(f)"
   ]
  },
  {
   "cell_type": "code",
   "execution_count": 3,
   "metadata": {},
   "outputs": [],
   "source": [
    "how_many_tweets = {}"
   ]
  },
  {
   "cell_type": "code",
   "execution_count": 4,
   "metadata": {},
   "outputs": [],
   "source": [
    "for celeb in TWEETS.keys():\n",
    "    how_many_tweets[celeb] =len(TWEETS[celeb].keys())"
   ]
  },
  {
   "cell_type": "code",
   "execution_count": 5,
   "metadata": {},
   "outputs": [
    {
     "data": {
      "text/plain": [
       "{'realDonaldTrump': 100,\n",
       " 'rickygervais': 300,\n",
       " 'barackobama': 300,\n",
       " 'jeffbezos': 241,\n",
       " 'billgates': 300,\n",
       " 'melindagates': 300,\n",
       " 'beyonce': 16,\n",
       " 'shakira': 300,\n",
       " 'jack': 300,\n",
       " 'elonmusk': 300,\n",
       " 'charlizeafrica': 300,\n",
       " 'jlo': 300,\n",
       " 'loganpaul': 300,\n",
       " 'neiltyson': 300}"
      ]
     },
     "execution_count": 5,
     "metadata": {},
     "output_type": "execute_result"
    }
   ],
   "source": [
    "how_many_tweets"
   ]
  },
  {
   "cell_type": "code",
   "execution_count": 6,
   "metadata": {},
   "outputs": [],
   "source": [
    "def clean_word(word):\n",
    "    pattern = re.compile('[\\W]+')\n",
    "    return pattern.sub(' ', word.lower()) "
   ]
  },
  {
   "cell_type": "code",
   "execution_count": 7,
   "metadata": {},
   "outputs": [],
   "source": [
    "for celeb in TWEETS.keys():\n",
    "    tweets = []\n",
    "    for tweet_id in TWEETS[celeb]:\n",
    "        tweet = TWEETS[celeb][tweet_id]\n",
    "        tweet = clean_word(tweet).split(\" \")\n",
    "        for word in tweet:\n",
    "            if \"http\" in word or \"www\" in word or \"youtu.be\" in word:\n",
    "                \n",
    "                pass\n",
    "            elif len(word)>1:\n",
    "                tweets.append(word)\n",
    "    \n",
    "    TWEETS[celeb]= tweets"
   ]
  },
  {
   "cell_type": "code",
   "execution_count": 8,
   "metadata": {},
   "outputs": [],
   "source": [
    "freq = {}\n",
    "for celeb in TWEETS.keys():\n",
    "    unique_ = len(set(TWEETS[celeb]))\n",
    "    all_ = len(TWEETS[celeb])\n",
    "    freq[celeb] = [all_,unique_,unique_/float(all_)]"
   ]
  },
  {
   "cell_type": "code",
   "execution_count": 9,
   "metadata": {},
   "outputs": [],
   "source": [
    "file = open(\"information.txt\",\"r\").readlines()\n",
    "for i in file:\n",
    "    username = i.split(\"\\t\")[1][1:]\n",
    "    gender = i.split(\"\\t\")[2]\n",
    "    age = i.split(\"\\t\")[3].strip()\n",
    "    freq[username].append(gender)\n",
    "    freq[username].append(age)\n",
    "    "
   ]
  },
  {
   "cell_type": "code",
   "execution_count": 10,
   "metadata": {},
   "outputs": [
    {
     "data": {
      "text/plain": [
       "{'realDonaldTrump': [1634, 704, 0.43084455324357407, 'male', '74'],\n",
       " 'rickygervais': [3029, 1176, 0.38824694618686034, 'male', '59'],\n",
       " 'barackobama': [6183, 1882, 0.30438298560569305, 'male', '59'],\n",
       " 'jeffbezos': [3973, 1619, 0.4075006292474201, 'male', '56'],\n",
       " 'billgates': [6042, 1872, 0.3098311817279047, 'male', '65'],\n",
       " 'melindagates': [6048, 1882, 0.31117724867724866, 'female', '55'],\n",
       " 'beyonce': [221, 147, 0.665158371040724, 'female', '39'],\n",
       " 'shakira': [4353, 1571, 0.3609005283712382, 'female', '43'],\n",
       " 'jack': [3282, 1413, 0.4305301645338208, 'male', '44'],\n",
       " 'elonmusk': [3264, 1440, 0.4411764705882353, 'male', '49'],\n",
       " 'charlizeafrica': [4700, 1629, 0.3465957446808511, 'female', '45'],\n",
       " 'jlo': [4163, 1457, 0.34998798943069903, 'female', '51'],\n",
       " 'loganpaul': [3554, 1396, 0.3927968486212718, 'male', '25'],\n",
       " 'neiltyson': [4584, 1911, 0.4168848167539267, 'male', '62']}"
      ]
     },
     "execution_count": 10,
     "metadata": {},
     "output_type": "execute_result"
    }
   ],
   "source": [
    "freq"
   ]
  },
  {
   "cell_type": "code",
   "execution_count": 11,
   "metadata": {},
   "outputs": [],
   "source": [
    "data = [[i,freq[i][0],freq[i][1],freq[i][2],freq[i][3],freq[i][4]] for i in freq]"
   ]
  },
  {
   "cell_type": "code",
   "execution_count": 12,
   "metadata": {},
   "outputs": [],
   "source": [
    "df = pd.DataFrame(data,columns=[\"names\",\"total_words\",\"unique_words\",\"ratio\",\"gender\",\"age\"])"
   ]
  },
  {
   "cell_type": "code",
   "execution_count": 13,
   "metadata": {},
   "outputs": [],
   "source": [
    "freq100 = {}\n",
    "for celeb in TWEETS.keys():\n",
    "    try:\n",
    "        wordss = random.sample(TWEETS[celeb],1000)\n",
    "        unique_ = len(set(wordss))\n",
    "        all_ = len(wordss)\n",
    "        f = unique_/float(all_)\n",
    "        freq100[celeb] = f\n",
    "        \n",
    "    except:\n",
    "        freq100[celeb] = 0"
   ]
  },
  {
   "cell_type": "code",
   "execution_count": 14,
   "metadata": {},
   "outputs": [
    {
     "data": {
      "text/plain": [
       "{'realDonaldTrump': 0.511,\n",
       " 'rickygervais': 0.502,\n",
       " 'barackobama': 0.521,\n",
       " 'jeffbezos': 0.555,\n",
       " 'billgates': 0.514,\n",
       " 'melindagates': 0.517,\n",
       " 'beyonce': 0,\n",
       " 'shakira': 0.538,\n",
       " 'jack': 0.563,\n",
       " 'elonmusk': 0.611,\n",
       " 'charlizeafrica': 0.523,\n",
       " 'jlo': 0.495,\n",
       " 'loganpaul': 0.536,\n",
       " 'neiltyson': 0.583}"
      ]
     },
     "execution_count": 14,
     "metadata": {},
     "output_type": "execute_result"
    }
   ],
   "source": [
    "freq100"
   ]
  },
  {
   "cell_type": "code",
   "execution_count": 15,
   "metadata": {},
   "outputs": [],
   "source": [
    "df[\"unique_per1000\"] = list(freq100.values())"
   ]
  },
  {
   "cell_type": "code",
   "execution_count": 16,
   "metadata": {},
   "outputs": [
    {
     "data": {
      "text/html": [
       "<div>\n",
       "<style scoped>\n",
       "    .dataframe tbody tr th:only-of-type {\n",
       "        vertical-align: middle;\n",
       "    }\n",
       "\n",
       "    .dataframe tbody tr th {\n",
       "        vertical-align: top;\n",
       "    }\n",
       "\n",
       "    .dataframe thead th {\n",
       "        text-align: right;\n",
       "    }\n",
       "</style>\n",
       "<table border=\"1\" class=\"dataframe\">\n",
       "  <thead>\n",
       "    <tr style=\"text-align: right;\">\n",
       "      <th></th>\n",
       "      <th>names</th>\n",
       "      <th>total_words</th>\n",
       "      <th>unique_words</th>\n",
       "      <th>ratio</th>\n",
       "      <th>gender</th>\n",
       "      <th>age</th>\n",
       "      <th>unique_per1000</th>\n",
       "    </tr>\n",
       "  </thead>\n",
       "  <tbody>\n",
       "    <tr>\n",
       "      <td>0</td>\n",
       "      <td>realDonaldTrump</td>\n",
       "      <td>1634</td>\n",
       "      <td>704</td>\n",
       "      <td>0.430845</td>\n",
       "      <td>male</td>\n",
       "      <td>74</td>\n",
       "      <td>0.511</td>\n",
       "    </tr>\n",
       "    <tr>\n",
       "      <td>1</td>\n",
       "      <td>rickygervais</td>\n",
       "      <td>3029</td>\n",
       "      <td>1176</td>\n",
       "      <td>0.388247</td>\n",
       "      <td>male</td>\n",
       "      <td>59</td>\n",
       "      <td>0.502</td>\n",
       "    </tr>\n",
       "    <tr>\n",
       "      <td>2</td>\n",
       "      <td>barackobama</td>\n",
       "      <td>6183</td>\n",
       "      <td>1882</td>\n",
       "      <td>0.304383</td>\n",
       "      <td>male</td>\n",
       "      <td>59</td>\n",
       "      <td>0.521</td>\n",
       "    </tr>\n",
       "    <tr>\n",
       "      <td>3</td>\n",
       "      <td>jeffbezos</td>\n",
       "      <td>3973</td>\n",
       "      <td>1619</td>\n",
       "      <td>0.407501</td>\n",
       "      <td>male</td>\n",
       "      <td>56</td>\n",
       "      <td>0.555</td>\n",
       "    </tr>\n",
       "    <tr>\n",
       "      <td>4</td>\n",
       "      <td>billgates</td>\n",
       "      <td>6042</td>\n",
       "      <td>1872</td>\n",
       "      <td>0.309831</td>\n",
       "      <td>male</td>\n",
       "      <td>65</td>\n",
       "      <td>0.514</td>\n",
       "    </tr>\n",
       "    <tr>\n",
       "      <td>5</td>\n",
       "      <td>melindagates</td>\n",
       "      <td>6048</td>\n",
       "      <td>1882</td>\n",
       "      <td>0.311177</td>\n",
       "      <td>female</td>\n",
       "      <td>55</td>\n",
       "      <td>0.517</td>\n",
       "    </tr>\n",
       "    <tr>\n",
       "      <td>6</td>\n",
       "      <td>beyonce</td>\n",
       "      <td>221</td>\n",
       "      <td>147</td>\n",
       "      <td>0.665158</td>\n",
       "      <td>female</td>\n",
       "      <td>39</td>\n",
       "      <td>0.000</td>\n",
       "    </tr>\n",
       "    <tr>\n",
       "      <td>7</td>\n",
       "      <td>shakira</td>\n",
       "      <td>4353</td>\n",
       "      <td>1571</td>\n",
       "      <td>0.360901</td>\n",
       "      <td>female</td>\n",
       "      <td>43</td>\n",
       "      <td>0.538</td>\n",
       "    </tr>\n",
       "    <tr>\n",
       "      <td>8</td>\n",
       "      <td>jack</td>\n",
       "      <td>3282</td>\n",
       "      <td>1413</td>\n",
       "      <td>0.430530</td>\n",
       "      <td>male</td>\n",
       "      <td>44</td>\n",
       "      <td>0.563</td>\n",
       "    </tr>\n",
       "    <tr>\n",
       "      <td>9</td>\n",
       "      <td>elonmusk</td>\n",
       "      <td>3264</td>\n",
       "      <td>1440</td>\n",
       "      <td>0.441176</td>\n",
       "      <td>male</td>\n",
       "      <td>49</td>\n",
       "      <td>0.611</td>\n",
       "    </tr>\n",
       "    <tr>\n",
       "      <td>10</td>\n",
       "      <td>charlizeafrica</td>\n",
       "      <td>4700</td>\n",
       "      <td>1629</td>\n",
       "      <td>0.346596</td>\n",
       "      <td>female</td>\n",
       "      <td>45</td>\n",
       "      <td>0.523</td>\n",
       "    </tr>\n",
       "    <tr>\n",
       "      <td>11</td>\n",
       "      <td>jlo</td>\n",
       "      <td>4163</td>\n",
       "      <td>1457</td>\n",
       "      <td>0.349988</td>\n",
       "      <td>female</td>\n",
       "      <td>51</td>\n",
       "      <td>0.495</td>\n",
       "    </tr>\n",
       "    <tr>\n",
       "      <td>12</td>\n",
       "      <td>loganpaul</td>\n",
       "      <td>3554</td>\n",
       "      <td>1396</td>\n",
       "      <td>0.392797</td>\n",
       "      <td>male</td>\n",
       "      <td>25</td>\n",
       "      <td>0.536</td>\n",
       "    </tr>\n",
       "    <tr>\n",
       "      <td>13</td>\n",
       "      <td>neiltyson</td>\n",
       "      <td>4584</td>\n",
       "      <td>1911</td>\n",
       "      <td>0.416885</td>\n",
       "      <td>male</td>\n",
       "      <td>62</td>\n",
       "      <td>0.583</td>\n",
       "    </tr>\n",
       "  </tbody>\n",
       "</table>\n",
       "</div>"
      ],
      "text/plain": [
       "              names  total_words  unique_words     ratio  gender age  \\\n",
       "0   realDonaldTrump         1634           704  0.430845    male  74   \n",
       "1      rickygervais         3029          1176  0.388247    male  59   \n",
       "2       barackobama         6183          1882  0.304383    male  59   \n",
       "3         jeffbezos         3973          1619  0.407501    male  56   \n",
       "4         billgates         6042          1872  0.309831    male  65   \n",
       "5      melindagates         6048          1882  0.311177  female  55   \n",
       "6           beyonce          221           147  0.665158  female  39   \n",
       "7           shakira         4353          1571  0.360901  female  43   \n",
       "8              jack         3282          1413  0.430530    male  44   \n",
       "9          elonmusk         3264          1440  0.441176    male  49   \n",
       "10   charlizeafrica         4700          1629  0.346596  female  45   \n",
       "11              jlo         4163          1457  0.349988  female  51   \n",
       "12        loganpaul         3554          1396  0.392797    male  25   \n",
       "13        neiltyson         4584          1911  0.416885    male  62   \n",
       "\n",
       "    unique_per1000  \n",
       "0            0.511  \n",
       "1            0.502  \n",
       "2            0.521  \n",
       "3            0.555  \n",
       "4            0.514  \n",
       "5            0.517  \n",
       "6            0.000  \n",
       "7            0.538  \n",
       "8            0.563  \n",
       "9            0.611  \n",
       "10           0.523  \n",
       "11           0.495  \n",
       "12           0.536  \n",
       "13           0.583  "
      ]
     },
     "execution_count": 16,
     "metadata": {},
     "output_type": "execute_result"
    }
   ],
   "source": [
    "df"
   ]
  },
  {
   "cell_type": "code",
   "execution_count": 17,
   "metadata": {},
   "outputs": [
    {
     "data": {
      "image/png": "[encoded data removed]",
      "text/plain": [
       "<Figure size 432x288 with 1 Axes>"
      ]
     },
     "metadata": {
      "needs_background": "light"
     },
     "output_type": "display_data"
    }
   ],
   "source": [
    "\n",
    "for i in range(14): \n",
    "    row = df.iloc[i:i+1,:]\n",
    "    name = row.names[i]\n",
    "    age = int(row.age[i])\n",
    "    gender = row.gender[i]\n",
    "    un = row.unique_per1000[i]\n",
    "    if name !=\"beyonce\":\n",
    "        if gender == \"male\":\n",
    "            plt.scatter(age,un,color=\"blue\")\n",
    "            plt.text(age+1,un,name)\n",
    "        else:\n",
    "            plt.scatter(age,un,color=\"red\")\n",
    "            plt.text(age+1,un,name)\n"
   ]
  },
  {
   "cell_type": "code",
   "execution_count": null,
   "metadata": {},
   "outputs": [],
   "source": []
  }
 ],
 "metadata": {
  "kernelspec": {
   "display_name": "Python 3",
   "language": "python",
   "name": "python3"
  },
  "language_info": {
   "codemirror_mode": {
    "name": "ipython",
    "version": 3
   },
   "file_extension": ".py",
   "mimetype": "text/x-python",
   "name": "python",
   "nbconvert_exporter": "python",
   "pygments_lexer": "ipython3",
   "version": "3.7.4"
  }
 },
 "nbformat": 4,
 "nbformat_minor": 2
}
