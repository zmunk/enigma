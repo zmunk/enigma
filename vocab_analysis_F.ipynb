{
 "cells": [
  {
   "cell_type": "code",
   "execution_count": 14,
   "metadata": {},
   "outputs": [],
   "source": [
    "import pandas as pd\n",
    "import json\n",
    "import re\n",
    "import random\n",
    "import matplotlib.pyplot as plt"
   ]
  },
  {
   "cell_type": "code",
   "execution_count": 15,
   "metadata": {},
   "outputs": [],
   "source": [
    "with open('TWEETS.json') as f:\n",
    "    TWEETS = json.load(f)\n",
    "how_many_tweets = {}\n",
    "for celeb in TWEETS.keys():\n",
    "    how_many_tweets[celeb] =len(TWEETS[celeb].keys())"
   ]
  },
  {
   "cell_type": "code",
   "execution_count": 16,
   "metadata": {},
   "outputs": [
    {
     "data": {
      "text/plain": [
       "{'realDonaldTrump': 100,\n",
       " 'rickygervais': 300,\n",
       " 'barackobama': 300,\n",
       " 'jeffbezos': 241,\n",
       " 'billgates': 300,\n",
       " 'melindagates': 300,\n",
       " 'beyonce': 16,\n",
       " 'shakira': 300,\n",
       " 'jack': 300,\n",
       " 'elonmusk': 300,\n",
       " 'charlizeafrica': 300,\n",
       " 'jlo': 300,\n",
       " 'loganpaul': 300,\n",
       " 'neiltyson': 300}"
      ]
     },
     "execution_count": 16,
     "metadata": {},
     "output_type": "execute_result"
    }
   ],
   "source": [
    "how_many_tweets"
   ]
  },
  {
   "cell_type": "code",
   "execution_count": 17,
   "metadata": {},
   "outputs": [],
   "source": [
    "def clean_word(word):\n",
    "    pattern = re.compile('[\\W]+')\n",
    "    return pattern.sub(' ', word.lower()) "
   ]
  },
  {
   "cell_type": "code",
   "execution_count": 18,
   "metadata": {},
   "outputs": [],
   "source": [
    "for celeb in TWEETS.keys():\n",
    "    tweets = []\n",
    "    for tweet_id in TWEETS[celeb]:\n",
    "        tweet = TWEETS[celeb][tweet_id]\n",
    "        tweet = clean_word(tweet).split(\" \")\n",
    "        for word in tweet:\n",
    "            if \"http\" in word or \"www\" in word or \"youtu.be\" in word:\n",
    "                \n",
    "                pass\n",
    "            elif len(word)>1:\n",
    "                tweets.append(word)\n",
    "    \n",
    "    TWEETS[celeb]= tweets"
   ]
  },
  {
   "cell_type": "code",
   "execution_count": 19,
   "metadata": {},
   "outputs": [],
   "source": [
    "freq = {}\n",
    "for celeb in TWEETS.keys():\n",
    "    unique_ = len(set(TWEETS[celeb]))\n",
    "    all_ = len(TWEETS[celeb])\n",
    "    freq[celeb] = [all_,unique_,unique_/float(all_)]"
   ]
  },
  {
   "cell_type": "code",
   "execution_count": 20,
   "metadata": {},
   "outputs": [],
   "source": [
    "file = open(\"information.txt\",\"r\").readlines()\n",
    "for i in file:\n",
    "    username = i.split(\"\\t\")[1][1:]\n",
    "    gender = i.split(\"\\t\")[2]\n",
    "    age = i.split(\"\\t\")[3].strip()\n",
    "    freq[username].append(gender)\n",
    "    freq[username].append(age)\n",
    "    "
   ]
  },
  {
   "cell_type": "code",
   "execution_count": 21,
   "metadata": {},
   "outputs": [],
   "source": [
    "data = [[i,freq[i][0],freq[i][1],freq[i][2],freq[i][3],freq[i][4]] for i in freq]"
   ]
  },
  {
   "cell_type": "code",
   "execution_count": 22,
   "metadata": {},
   "outputs": [],
   "source": [
    "df = pd.DataFrame(data,columns=[\"names\",\"total_words\",\"unique_words\",\"ratio\",\"gender\",\"age\"])"
   ]
  },
  {
   "cell_type": "code",
   "execution_count": 23,
   "metadata": {},
   "outputs": [],
   "source": [
    "freq100 = {}\n",
    "for celeb in TWEETS.keys():\n",
    "    try:\n",
    "        wordss = random.sample(TWEETS[celeb],1000)\n",
    "        unique_ = len(set(wordss))\n",
    "        all_ = len(wordss)\n",
    "        f = unique_/float(all_)\n",
    "        freq100[celeb] = f\n",
    "        \n",
    "    except:\n",
    "        freq100[celeb] = 0"
   ]
  },
  {
   "cell_type": "code",
   "execution_count": 24,
   "metadata": {},
   "outputs": [],
   "source": [
    "df[\"unique_per1000\"] = list(freq100.values())"
   ]
  },
  {
   "cell_type": "code",
   "execution_count": 25,
   "metadata": {},
   "outputs": [
    {
     "data": {
      "image/png": "[encoded data removed]",
      "text/plain": [
       "<Figure size 432x288 with 1 Axes>"
      ]
     },
     "metadata": {
      "needs_background": "light"
     },
     "output_type": "display_data"
    }
   ],
   "source": [
    "\n",
    "for i in range(14): \n",
    "    row = df.iloc[i:i+1,:]\n",
    "    name = row.names[i]\n",
    "    age = int(row.age[i])\n",
    "    gender = row.gender[i]\n",
    "    un = row.unique_per1000[i]\n",
    "    if name !=\"beyonce\":\n",
    "        if gender == \"male\":\n",
    "            plt.scatter(age,un,color=\"blue\")\n",
    "            plt.text(age+1,un,name)\n",
    "        else:\n",
    "            plt.scatter(age,un,color=\"red\")\n",
    "            plt.text(age+1,un,name)\n"
   ]
  },
  {
   "cell_type": "code",
   "execution_count": null,
   "metadata": {},
   "outputs": [],
   "source": []
  }
 ],
 "metadata": {
  "kernelspec": {
   "display_name": "Python 3",
   "language": "python",
   "name": "python3"
  },
  "language_info": {
   "codemirror_mode": {
    "name": "ipython",
    "version": 3
   },
   "file_extension": ".py",
   "mimetype": "text/x-python",
   "name": "python",
   "nbconvert_exporter": "python",
   "pygments_lexer": "ipython3",
   "version": "3.7.4"
  }
 },
 "nbformat": 4,
 "nbformat_minor": 2
}
