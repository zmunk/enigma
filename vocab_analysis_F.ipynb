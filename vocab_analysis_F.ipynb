{
 "cells": [
  {
   "cell_type": "code",
   "execution_count": 42,
   "metadata": {},
   "outputs": [],
   "source": [
    "import pandas as pd\n",
    "import json\n",
    "import re\n",
    "import random\n",
    "import matplotlib.pyplot as plt\n",
    "from nltk.corpus import stopwords\n",
    "import nltk\n",
    "stop_words = stopwords.words('english')\n",
    "from textblob import TextBlob as TB"
   ]
  },
  {
   "cell_type": "code",
   "execution_count": 43,
   "metadata": {},
   "outputs": [],
   "source": [
    "with open('TWEETS.json') as f:\n",
    "    TWEETS = json.load(f)\n",
    "how_many_tweets = {}"
   ]
  },
  {
   "cell_type": "code",
   "execution_count": 44,
   "metadata": {},
   "outputs": [
    {
     "data": {
      "text/plain": [
       "dict_keys(['realDonaldTrump', 'rickygervais', 'barackobama', 'jeffbezos', 'billgates', 'melindagates', 'beyonce', 'shakira', 'jack', 'elonmusk', 'charlizeafrica', 'jlo', 'loganpaul', 'neiltyson', 'JoeBiden', 'HillaryClinton', 'idriselba', 'RealHughJackman', 'ChrisEvans', 'katyperry', 'KSIOlajidebt', 'Maisie_Williams', 'emiliaclarke', 'AOC', 'SpeakerPelosi'])"
      ]
     },
     "execution_count": 44,
     "metadata": {},
     "output_type": "execute_result"
    }
   ],
   "source": [
    "TWEETS.keys()"
   ]
  },
  {
   "cell_type": "code",
   "execution_count": 45,
   "metadata": {
    "scrolled": true
   },
   "outputs": [],
   "source": [
    "l = list(TWEETS.keys())\n",
    "for i in l:\n",
    "    TWEETS[str((i).lower())] = TWEETS.pop(i)\n"
   ]
  },
  {
   "cell_type": "code",
   "execution_count": 46,
   "metadata": {},
   "outputs": [],
   "source": [
    "del TWEETS[\"emiliaclarke\"]\n",
    "del TWEETS[\"beyonce\"]\n",
    "del TWEETS[\"shakira\"]"
   ]
  },
  {
   "cell_type": "code",
   "execution_count": 47,
   "metadata": {},
   "outputs": [],
   "source": [
    "for celeb in TWEETS.keys():\n",
    "    how_many_tweets[celeb] =len(TWEETS[celeb].keys())"
   ]
  },
  {
   "cell_type": "code",
   "execution_count": 48,
   "metadata": {},
   "outputs": [],
   "source": [
    "def clean_word(word):\n",
    "    pattern = re.compile('[\\W]+')\n",
    "    \n",
    "    se = \"\"\n",
    "    words = word.split()\n",
    "    \n",
    "    for word in words:\n",
    "        if \"http\" in word or \"www\" in word:\n",
    "            words.remove(word)\n",
    "            \n",
    "    \n",
    "    \n",
    "    \n",
    "    for word in words:\n",
    "        if \"@\" in word or \"#\" in word:\n",
    "            words.remove(word)\n",
    "    \n",
    "    \n",
    "    for i in range(len(words)):\n",
    "        word = words[i]\n",
    "        \n",
    "        \n",
    "        words[i] = pattern.sub('', word.lower()).strip()\n",
    "    \n",
    "    for word in words:\n",
    "        if \"rt\" == word:\n",
    "            words.remove(word)\n",
    "    for word in words:\n",
    "        try:\n",
    "            a = int(word)\n",
    "            \n",
    "            words.remove(word)\n",
    "        except: pass\n",
    "    \n",
    "    for word in words:\n",
    "        a = 0\n",
    "        for i in range(10):\n",
    "            i = str(i)\n",
    "            if i in word:\n",
    "                a = 1\n",
    "        if a == 1:\n",
    "            \n",
    "            words.remove(word)\n",
    "    \n",
    "    for word in words:\n",
    "        if type(word) != \"str\":\n",
    "            words.remove(word)\n",
    "    \n",
    "    results = []\n",
    "    for word in words:\n",
    "        if word not in stop_words:\n",
    "            results.append(word.strip())\n",
    "    \n",
    "    \n",
    "    for word in results:\n",
    "        if len(word) > 1:\n",
    "            se += word+\" \"\n",
    "\n",
    "    return se.strip()\n",
    "    \n"
   ]
  },
  {
   "cell_type": "code",
   "execution_count": 49,
   "metadata": {},
   "outputs": [],
   "source": [
    "for celeb in TWEETS.keys():\n",
    "    tweets = []\n",
    "    for tweet_id in TWEETS[celeb]:\n",
    "        tweet = TWEETS[celeb][tweet_id]\n",
    "        tweet = clean_word(tweet).split(\" \")\n",
    "        for word in tweet:\n",
    "            if \"http\" in word or \"www\" in word or \"youtu.be\" in word:\n",
    "                \n",
    "                pass\n",
    "            elif len(word)>1:\n",
    "                tweets.append(word)\n",
    "    \n",
    "    TWEETS[celeb]= tweets"
   ]
  },
  {
   "cell_type": "code",
   "execution_count": 50,
   "metadata": {},
   "outputs": [],
   "source": [
    "freq = {}\n",
    "for celeb in TWEETS.keys():\n",
    "    unique_ = len(set(TWEETS[celeb]))\n",
    "    all_ = len(TWEETS[celeb])\n",
    "    freq[(celeb).lower()] = [all_,unique_,unique_/float(all_)]"
   ]
  },
  {
   "cell_type": "code",
   "execution_count": 51,
   "metadata": {},
   "outputs": [],
   "source": [
    "file = open(\"information.txt\",\"r\").readlines()\n",
    "for i in file:\n",
    "    username = (i.split(\"\\t\")[1][1:]).lower()\n",
    "    gender = i.split(\"\\t\")[2]\n",
    "    age = i.split(\"\\t\")[3].strip()\n",
    "    if username in TWEETS:\n",
    "        freq[username].append(gender)\n",
    "        freq[username].append(age)\n"
   ]
  },
  {
   "cell_type": "code",
   "execution_count": 52,
   "metadata": {},
   "outputs": [],
   "source": [
    "data = [[i,freq[i][0],freq[i][1],freq[i][2],freq[i][3],freq[i][4]] for i in freq]"
   ]
  },
  {
   "cell_type": "code",
   "execution_count": 53,
   "metadata": {},
   "outputs": [],
   "source": [
    "df = pd.DataFrame(data,columns=[\"names\",\"total_words\",\"unique_words\",\"ratio\",\"gender\",\"age\"])"
   ]
  },
  {
   "cell_type": "code",
   "execution_count": 54,
   "metadata": {},
   "outputs": [],
   "source": [
    "freq100 = {}\n",
    "for celeb in TWEETS.keys():\n",
    "    try:\n",
    "        wordss = random.sample(TWEETS[celeb],900)\n",
    "        unique_ = len(set(wordss))\n",
    "        all_ = len(wordss)\n",
    "        f = unique_/float(all_)\n",
    "        freq100[celeb] = f\n",
    "        \n",
    "    except:\n",
    "        freq100[celeb] = 0"
   ]
  },
  {
   "cell_type": "code",
   "execution_count": 55,
   "metadata": {},
   "outputs": [],
   "source": [
    "df[\"unique_per900\"] = list(freq100.values())"
   ]
  },
  {
   "cell_type": "code",
   "execution_count": 56,
   "metadata": {},
   "outputs": [
    {
     "data": {
      "text/plain": [
       "Text(0.5, 1.0, 'VOCAB SIZE / AGE')"
      ]
     },
     "execution_count": 56,
     "metadata": {},
     "output_type": "execute_result"
    },
    {
     "data": {
      "image/png": "[encoded data removed]",
      "text/plain": [
       "<Figure size 1080x720 with 1 Axes>"
      ]
     },
     "metadata": {
      "needs_background": "light"
     },
     "output_type": "display_data"
    }
   ],
   "source": [
    "fig = plt.figure(figsize = (15,10))\n",
    "for i in range(22): \n",
    "    row = df.iloc[i:i+1,:]\n",
    "    name = row.names[i]\n",
    "    age = int(row.age[i])\n",
    "    gender = row.gender[i]\n",
    "    un = row.unique_per900[i]\n",
    "    \n",
    "    if gender == \"male\":\n",
    "        plt.scatter(age,un,color=\"blue\")\n",
    "        plt.text(age+0.1,un,name,rotation=0)\n",
    "    else:\n",
    "        plt.scatter(age,un,color=\"red\")\n",
    "        plt.text(age+0.1,un,(name).strip(),rotation=0)\n",
    "plt.title(\"VOCAB SIZE / AGE\")"
   ]
  },
  {
   "cell_type": "code",
   "execution_count": 57,
   "metadata": {},
   "outputs": [
    {
     "data": {
      "text/plain": [
       "dict_keys(['realdonaldtrump', 'rickygervais', 'barackobama', 'jeffbezos', 'billgates', 'melindagates', 'jack', 'elonmusk', 'charlizeafrica', 'jlo', 'loganpaul', 'neiltyson', 'joebiden', 'hillaryclinton', 'idriselba', 'realhughjackman', 'chrisevans', 'katyperry', 'ksiolajidebt', 'maisie_williams', 'aoc', 'speakerpelosi'])"
      ]
     },
     "execution_count": 57,
     "metadata": {},
     "output_type": "execute_result"
    }
   ],
   "source": [
    "TWEETS.keys()"
   ]
  },
  {
   "cell_type": "markdown",
   "metadata": {},
   "source": [
    "# popular words "
   ]
  },
  {
   "cell_type": "code",
   "execution_count": 58,
   "metadata": {},
   "outputs": [],
   "source": [
    "counter = {}\n",
    "for celeb in TWEETS:\n",
    "    \n",
    "    c = {}\n",
    "    for word in TWEETS[celeb]:\n",
    "        if word not in c:\n",
    "            c[word] = 1\n",
    "        else:\n",
    "            c[word] += 1\n",
    "            \n",
    "    cc = []\n",
    "    \n",
    "    for k in c:\n",
    "        cc.append((c[k],k))\n",
    "        \n",
    "    cc.sort()\n",
    "    \n",
    "    counter[celeb] = cc[::-1]"
   ]
  },
  {
   "cell_type": "code",
   "execution_count": 59,
   "metadata": {},
   "outputs": [
    {
     "data": {
      "text/plain": [
       "dict_keys(['realdonaldtrump', 'rickygervais', 'barackobama', 'jeffbezos', 'billgates', 'melindagates', 'jack', 'elonmusk', 'charlizeafrica', 'jlo', 'loganpaul', 'neiltyson', 'joebiden', 'hillaryclinton', 'idriselba', 'realhughjackman', 'chrisevans', 'katyperry', 'ksiolajidebt', 'maisie_williams', 'aoc', 'speakerpelosi'])"
      ]
     },
     "execution_count": 59,
     "metadata": {},
     "output_type": "execute_result"
    }
   ],
   "source": [
    "counter.keys()"
   ]
  },
  {
   "cell_type": "code",
   "execution_count": 60,
   "metadata": {},
   "outputs": [
    {
     "data": {
      "text/plain": [
       "[(23, 'life'),\n",
       " (19, 'im'),\n",
       " (19, 'dont'),\n",
       " (17, 'netflix'),\n",
       " (16, 'time'),\n",
       " (15, 'think'),\n",
       " (13, 'show'),\n",
       " (13, 'new'),\n",
       " (13, 'favourite'),\n",
       " (12, 'vote')]"
      ]
     },
     "execution_count": 60,
     "metadata": {},
     "output_type": "execute_result"
    }
   ],
   "source": [
    "counter['rickygervais'][:10]"
   ]
  },
  {
   "cell_type": "markdown",
   "metadata": {},
   "source": [
    "# basic sentiment analysis"
   ]
  },
  {
   "cell_type": "code",
   "execution_count": 61,
   "metadata": {},
   "outputs": [
    {
     "data": {
      "text/plain": [
       "Sentiment(polarity=0.5, subjectivity=0.6)"
      ]
     },
     "execution_count": 61,
     "metadata": {},
     "output_type": "execute_result"
    }
   ],
   "source": [
    "TB(\"love\").sentiment"
   ]
  },
  {
   "cell_type": "code",
   "execution_count": 62,
   "metadata": {},
   "outputs": [],
   "source": [
    "sent_dict = {}\n",
    "for celeb in TWEETS:\n",
    "    one_sent = \"\"\n",
    "    \n",
    "    for word in TWEETS[celeb]:\n",
    "        one_sent+= word+\" \"\n",
    "        \n",
    "    pne_sent = one_sent.strip()\n",
    "    \n",
    "    sent_dict[celeb] =TB(one_sent).sentiment"
   ]
  },
  {
   "cell_type": "code",
   "execution_count": 63,
   "metadata": {},
   "outputs": [
    {
     "data": {
      "text/plain": [
       "{'realdonaldtrump': Sentiment(polarity=0.20320232399179766, subjectivity=0.5322303865724917),\n",
       " 'rickygervais': Sentiment(polarity=0.16429603393239747, subjectivity=0.5725907997726181),\n",
       " 'barackobama': Sentiment(polarity=0.22435312668395394, subjectivity=0.4801889825574036),\n",
       " 'jeffbezos': Sentiment(polarity=0.32174582362082343, subjectivity=0.54037296037296),\n",
       " 'billgates': Sentiment(polarity=0.24671536447648637, subjectivity=0.5348415349962743),\n",
       " 'melindagates': Sentiment(polarity=0.23631518321970071, subjectivity=0.5226666118503908),\n",
       " 'jack': Sentiment(polarity=0.23849825078022752, subjectivity=0.48164934225980766),\n",
       " 'elonmusk': Sentiment(polarity=0.18285267173903544, subjectivity=0.5118221063448337),\n",
       " 'charlizeafrica': Sentiment(polarity=0.2400117501546072, subjectivity=0.5176955029097889),\n",
       " 'jlo': Sentiment(polarity=0.3305156784202417, subjectivity=0.5550971556106411),\n",
       " 'loganpaul': Sentiment(polarity=0.09479591370347684, subjectivity=0.537061157019141),\n",
       " 'neiltyson': Sentiment(polarity=0.16205165154480228, subjectivity=0.47183644665836455),\n",
       " 'joebiden': Sentiment(polarity=0.1491255175250502, subjectivity=0.43814260765195356),\n",
       " 'hillaryclinton': Sentiment(polarity=0.1929844398026215, subjectivity=0.4973853755671937),\n",
       " 'idriselba': Sentiment(polarity=0.18493934012580393, subjectivity=0.4955233678230919),\n",
       " 'realhughjackman': Sentiment(polarity=0.3590789527932386, subjectivity=0.617692460317461),\n",
       " 'chrisevans': Sentiment(polarity=0.1445257118178734, subjectivity=0.5597569348044409),\n",
       " 'katyperry': Sentiment(polarity=0.2182596181836962, subjectivity=0.51791914340179),\n",
       " 'ksiolajidebt': Sentiment(polarity=0.06320450248428088, subjectivity=0.5616175206756925),\n",
       " 'maisie_williams': Sentiment(polarity=0.17971217336879994, subjectivity=0.5579958448512663),\n",
       " 'aoc': Sentiment(polarity=0.09318202383523047, subjectivity=0.4582325717301966),\n",
       " 'speakerpelosi': Sentiment(polarity=0.10181808825180581, subjectivity=0.4355625626374904)}"
      ]
     },
     "execution_count": 63,
     "metadata": {},
     "output_type": "execute_result"
    }
   ],
   "source": [
    "sent_dict"
   ]
  },
  {
   "cell_type": "code",
   "execution_count": 64,
   "metadata": {},
   "outputs": [],
   "source": [
    "p = []\n",
    "s = []\n",
    "for pr in sent_dict:\n",
    "    pr = sent_dict[pr]\n",
    "    p.append(pr.polarity)\n",
    "    s.append(pr.subjectivity)    "
   ]
  },
  {
   "cell_type": "code",
   "execution_count": 65,
   "metadata": {},
   "outputs": [],
   "source": [
    "df[\"polarity\"] = p\n",
    "df[\"subjectivity\"] =s"
   ]
  },
  {
   "cell_type": "code",
   "execution_count": 66,
   "metadata": {},
   "outputs": [
    {
     "data": {
      "text/plain": [
       "Text(0.5, 1.0, 'Polarity / Subjectivity')"
      ]
     },
     "execution_count": 66,
     "metadata": {},
     "output_type": "execute_result"
    },
    {
     "data": {
      "image/png": "[encoded data removed]",
      "text/plain": [
       "<Figure size 1080x720 with 1 Axes>"
      ]
     },
     "metadata": {
      "needs_background": "light"
     },
     "output_type": "display_data"
    }
   ],
   "source": [
    "angles = range(0,90)\n",
    "\n",
    "\n",
    "fig2 = plt.figure(figsize = (15,10))\n",
    "for i in range(22): \n",
    "    row = df.iloc[i:i+1,:]\n",
    "    name = row.names[i]\n",
    "    gender = row.gender[i]\n",
    "    pp = row.polarity[i]\n",
    "    ss = row.subjectivity[i]\n",
    "    angle = 0\n",
    "    if gender == \"male\":\n",
    "        plt.scatter(pp,ss,color=\"blue\")\n",
    "        plt.text(pp,ss,name,rotation=angle,size=11)\n",
    "    else:\n",
    "        plt.scatter(pp,ss,color=\"red\")\n",
    "        plt.text(pp,ss,name,rotation=angle,size=11)\n",
    "plt.title(\"Polarity / Subjectivity\")"
   ]
  },
  {
   "cell_type": "code",
   "execution_count": 67,
   "metadata": {},
   "outputs": [],
   "source": [
    "e_words = [(i).split('\"')[1] for i in open(\"we.txt\",\"r\").readlines()[1:-1]]\n",
    "e_words.sort()"
   ]
  },
  {
   "cell_type": "code",
   "execution_count": 68,
   "metadata": {},
   "outputs": [],
   "source": [
    "let = {}"
   ]
  },
  {
   "cell_type": "code",
   "execution_count": 69,
   "metadata": {},
   "outputs": [],
   "source": [
    "for word in e_words:\n",
    "    l = word[:1]\n",
    "    if l in let:\n",
    "        pass\n",
    "    else:\n",
    "        let[l] = e_words.index(word)\n",
    "        \n",
    "let[\"end\"] = len(e_words)"
   ]
  },
  {
   "cell_type": "code",
   "execution_count": 70,
   "metadata": {},
   "outputs": [],
   "source": [
    "real_words = {}"
   ]
  },
  {
   "cell_type": "code",
   "execution_count": 71,
   "metadata": {},
   "outputs": [],
   "source": [
    "ks = list(let.keys())\n",
    "for celeb in TWEETS:\n",
    "    ws = []\n",
    "    for word in TWEETS[celeb]:\n",
    "        l = word[0]\n",
    "        try:\n",
    "            currentl = let[ks[ks.index(l)]]\n",
    "            nextl = let[ks[ks.index(l)+1]]\n",
    "            if word in e_words[currentl:nextl]:\n",
    "                ws.append(word)\n",
    "        except:\n",
    "            pass\n",
    "    real_words[celeb] = ws"
   ]
  },
  {
   "cell_type": "code",
   "execution_count": 72,
   "metadata": {},
   "outputs": [],
   "source": [
    "rwa = []\n",
    "rwu = []\n",
    "\n",
    "for celeb in real_words:\n",
    "    rwa.append(len(real_words[celeb]))\n",
    "    rwu.append(len(set(real_words[celeb])))"
   ]
  },
  {
   "cell_type": "code",
   "execution_count": 73,
   "metadata": {},
   "outputs": [],
   "source": [
    "df[\"correct_words\"] = rwa\n",
    "df[\"correct_words_u\"] = rwu"
   ]
  },
  {
   "cell_type": "markdown",
   "metadata": {},
   "source": [
    "# who is better writter?"
   ]
  },
  {
   "cell_type": "code",
   "execution_count": 74,
   "metadata": {},
   "outputs": [
    {
     "data": {
      "image/png": "[encoded data removed]",
      "text/plain": [
       "<Figure size 1080x648 with 1 Axes>"
      ]
     },
     "metadata": {
      "needs_background": "light"
     },
     "output_type": "display_data"
    }
   ],
   "source": [
    "fig3 = plt.figure(figsize = (15,9))\n",
    "\n",
    "li = []\n",
    "for i in range(21): \n",
    "    row = df.iloc[i:i+1,:]\n",
    "    \n",
    "    name = row.names[i]\n",
    "    age = row.age[i]\n",
    "    gender = row.gender[i]\n",
    "    c = row.correct_words[i]\n",
    "    a = row.total_words[i]\n",
    "    \n",
    "    r = float(c)/a\n",
    "    \n",
    "    li.append((age,r,name,gender))\n",
    "    \n",
    "\n",
    "li.sort()\n",
    "\n",
    "for i in li:\n",
    "    gender = i[3]\n",
    "    name = i[2]\n",
    "    r= i[1]\n",
    "    age = i[0]\n",
    "    \n",
    "    if gender == \"male\":\n",
    "        plt.scatter(age,r,color=\"blue\")\n",
    "        plt.text(age,r,name,rotation=angle,size=11)\n",
    "    else:\n",
    "        plt.scatter(age,r,color=\"red\")\n",
    "        plt.text(age,r,name,rotation=angle,size=11)\n",
    "    "
   ]
  },
  {
   "cell_type": "code",
   "execution_count": null,
   "metadata": {},
   "outputs": [],
   "source": []
  }
 ],
 "metadata": {
  "kernelspec": {
   "display_name": "Python 3",
   "language": "python",
   "name": "python3"
  },
  "language_info": {
   "codemirror_mode": {
    "name": "ipython",
    "version": 3
   },
   "file_extension": ".py",
   "mimetype": "text/x-python",
   "name": "python",
   "nbconvert_exporter": "python",
   "pygments_lexer": "ipython3",
   "version": "3.7.4"
  }
 },
 "nbformat": 4,
 "nbformat_minor": 2
}
